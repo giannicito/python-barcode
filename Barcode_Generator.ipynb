{
  "nbformat": 4,
  "nbformat_minor": 0,
  "metadata": {
    "colab": {
      "name": "BarCode Generator.ipynb",
      "provenance": [],
      "collapsed_sections": [],
      "authorship_tag": "ABX9TyMNMqcau6JHTWW+Hnlfzk8l",
      "include_colab_link": true
    },
    "kernelspec": {
      "name": "python3",
      "display_name": "Python 3"
    }
  },
  "cells": [
    {
      "cell_type": "markdown",
      "metadata": {
        "id": "view-in-github",
        "colab_type": "text"
      },
      "source": [
        "<a href=\"https://colab.research.google.com/github/giannicito/python-barcode/blob/main/Barcode_Generator.ipynb\" target=\"_parent\"><img src=\"https://colab.research.google.com/assets/colab-badge.svg\" alt=\"Open In Colab\"/></a>"
      ]
    },
    {
      "cell_type": "code",
      "metadata": {
        "id": "rlgtKkLD28Ib"
      },
      "source": [
        "!pip install python-barcode"
      ],
      "execution_count": null,
      "outputs": []
    },
    {
      "cell_type": "code",
      "metadata": {
        "id": "cV620m0O3VIv"
      },
      "source": [
        "import barcode\n",
        "from barcode.writer import ImageWriter\n",
        "\n",
        "# provided barcodes: [ 'code39', 'code128', 'ean', 'ean13', 'ean8', 'gs1', 'gtin',\n",
        "#                      'isbn', 'isbn10', 'isbn13', 'issn', 'jan', 'pzn', 'upc', 'upca']\n",
        "ean = barcode.get('code128', 'YOUR_CODE_HERE', writer=ImageWriter())\n",
        "\n",
        "# apply some transformation to the barcode generated\n",
        "options = {\n",
        "    'dpi': 200,\n",
        "    'module_height': 30,\n",
        "    'font_size': 20 \n",
        "}\n",
        "\n",
        "# save the barcode into a file\n",
        "filename = ean.save('filename_here', options)"
      ],
      "execution_count": 3,
      "outputs": []
    }
  ]
}